{
 "cells": [
  {
   "cell_type": "code",
   "execution_count": 1,
   "metadata": {},
   "outputs": [],
   "source": [
    "# adapted from https://towardsdatascience.com/become-a-lyrical-genius-4362e7710e43?gi=d438aadd83e9\n",
    "# and https://github.com/christianlomboy/MIR-Genre-Predictor/blob/master/MIR_data_collection.ipynb\n",
    "\n",
    "import spotipy\n",
    "from spotipy.oauth2 import SpotifyClientCredentials\n",
    "import requests\n",
    "from bs4 import BeautifulSoup\n",
    "import json\n",
    "\n",
    "class GetLyrics():\n",
    "    def __init__(self, spotify_client_id, spotify_client_secret, user_id, playlist_id, genius_key):\n",
    "        self.spotify_client_id = spotify_client_id\n",
    "        self.spotify_client_secret = spotify_client_secret\n",
    "        self.user_id = user_id\n",
    "        self.playlist_id = playlist_id\n",
    "        self.genius_key = genius_key\n",
    "        \n",
    "    def get_playlist_info(self):\n",
    "        token = SpotifyClientCredentials(client_id=self.spotify_client_id, client_secret=self.spotify_client_secret).get_access_token()\n",
    "        sp = spotipy.Spotify(token)\n",
    "        playlist = sp.user_playlist_tracks(self.user_id, self.playlist_id)\n",
    "        self.playlist = playlist\n",
    "        return self.playlist\n",
    "    \n",
    "    def get_track_names(self):\n",
    "        track_names = []\n",
    "        for song in range(len(self.playlist['items'])):\n",
    "            track_names.append(self.playlist['items'][song]['track']['name'])\n",
    "        self.track_names = track_names\n",
    "        return self.track_names\n",
    "    \n",
    "    def get_track_features(self):\n",
    "        track_features = []\n",
    "        for song in range(len(self.playlist['items'])):\n",
    "            track_features.append(sp.audio_features(tracks = self.playlist['items'][song]['track']['id']))\n",
    "        self.track_features = track_features\n",
    "        return self.track_features\n",
    "\n",
    "    def get_track_artists(self):\n",
    "        track_artists = []\n",
    "        for song in range(len(self.playlist['items'])):\n",
    "            track_artists.append(self.playlist['items'][song]['track']['artists'][0]['name'])\n",
    "        self.track_artists = track_artists\n",
    "        return self.track_artists\n",
    "         \n",
    "    def get_track_genres(self):\n",
    "        track_genres = []\n",
    "        for song in range(len(self.playlist['items'])):\n",
    "            track_genres.append(sp.artist(self.playlist['items'][song]['track']['artists'][0]['id'])['genres'])\n",
    "        self.track_genres = track_genres\n",
    "        return self.track_genres\n",
    "        \n",
    "    def request_song_info(self, track_name, track_artist):\n",
    "        self.track_name = track_name\n",
    "        self.track_artist = track_artist\n",
    "        base_url = 'https://api.genius.com'\n",
    "        headers = {'Authorization': 'Bearer ' + self.genius_key}\n",
    "        search_url = base_url + '/search'\n",
    "        data = {'q': track_name + ' ' + track_artist}\n",
    "        response = requests.get(search_url, data=data, headers=headers)\n",
    "        self.response = response\n",
    "        return self.response\n",
    "\n",
    "    def check_hits(self):\n",
    "        json = self.response.json()\n",
    "        remote_song_info = None\n",
    "        for hit in json['response']['hits']:\n",
    "            if self.track_artist.lower() in hit['result']['primary_artist']['name'].lower():\n",
    "                remote_song_info = hit\n",
    "                break\n",
    "        self.remote_song_info = remote_song_info\n",
    "        return self.remote_song_info\n",
    "    \n",
    "    def get_url(self):\n",
    "        song_url = self.remote_song_info['result']['url']\n",
    "        self.song_url = song_url\n",
    "        return self.song_url\n",
    "    \n",
    "    def scrape_lyrics(self):\n",
    "        page = requests.get(self.song_url)\n",
    "        html = BeautifulSoup(page.text, 'html.parser')\n",
    "        lyrics1 = html.find(\"div\", class_=\"lyrics\")\n",
    "        lyrics2 = html.find(\"div\", class_=\"Lyrics__Container-sc-1ynbvzw-2 jgQsqn\")\n",
    "        if lyrics1:\n",
    "            lyrics = lyrics1.get_text()\n",
    "        elif lyrics2:\n",
    "            lyrics = lyrics2.get_text()\n",
    "        elif lyrics1 == lyrics2 == None:\n",
    "            lyrics = None\n",
    "        return lyrics\n",
    "\n",
    "    def get_lyrics(self):\n",
    "        playlist = GetLyrics.get_playlist_info(self)\n",
    "        track_names = GetLyrics.get_track_names(self)\n",
    "        track_artists = GetLyrics.get_track_artists(self)\n",
    "        song_lyrics = []\n",
    "        for i in range(len(self.track_names)):\n",
    "            print(\"\\n\")\n",
    "            print(f\"Working on track {i}.\")\n",
    "            response = GetLyrics.request_song_info(self, self.track_names[i], self.track_artists[i])\n",
    "            remote_song_info = GetLyrics.check_hits(self)\n",
    "            if remote_song_info == None:\n",
    "                lyrics = 'None'\n",
    "                print(f\"Track {i} is not in the Genius database.\")\n",
    "            else:\n",
    "                url = GetLyrics.get_url(self)\n",
    "                lyrics = GetLyrics.scrape_lyrics(self)\n",
    "                if lyrics == None:\n",
    "                    lyrics = 'None'\n",
    "                    print(f\"Track {i} is not in the Genius database.\")\n",
    "                else:\n",
    "                    print(f\"Retrieved track {i} lyrics!\")\n",
    "            song_lyrics.append(lyrics)\n",
    "        return song_lyrics"
   ]
  },
  {
   "cell_type": "code",
   "execution_count": 2,
   "metadata": {},
   "outputs": [],
   "source": [
    "# Vpop 2021\n",
    "spotify_user_id = 'https://open.spotify.com/user/31dcvftglnr6poeipfn5fhh6er4y?si=323d9529cac2464c'\n",
    "spotify_playlist_id = 'https://open.spotify.com/playlist/0mrqaVOe6KYEEcaSYhVK4a?si=68dd2cc60d494360'"
   ]
  },
  {
   "cell_type": "code",
   "execution_count": 3,
   "metadata": {},
   "outputs": [],
   "source": [
    "# Vpop 2020\n",
    "spotify_user_id = 'https://open.spotify.com/user/7x629eaa5yen7rnd15bnz5fum?si=b6b84aabbfc04a8a'\n",
    "spotify_playlist_id = 'https://open.spotify.com/playlist/77jIiSDGEkHlUFv2HH6ATA?si=e5c3e6031e334387'"
   ]
  },
  {
   "cell_type": "code",
   "execution_count": 4,
   "metadata": {},
   "outputs": [],
   "source": [
    "# Vpop in 2015-2019\n",
    "spotify_user_id = 'https://open.spotify.com/user/31dcvftglnr6poeipfn5fhh6er4y'\n",
    "spotify_playlist_id = 'https://open.spotify.com/playlist/3Rso58hNRq63GTIFTiHLW7'"
   ]
  },
  {
   "cell_type": "code",
   "execution_count": 5,
   "metadata": {},
   "outputs": [],
   "source": [
    "# client_id, client_secret, genius_key\n",
    "spotify_client_id = '__'\n",
    "spotify_client_secret = '___'\n",
    "# spotify_user_id = '__'\n",
    "# spotify_playlist_id = '__'\n",
    "genius_key = '___'"
   ]
  },
  {
   "cell_type": "code",
   "execution_count": 6,
   "metadata": {},
   "outputs": [],
   "source": [
    "# get lyrics from genius.com\n",
    "songs = GetLyrics(spotify_client_id, spotify_client_secret, spotify_user_id, spotify_playlist_id, genius_key)\n",
    "song_lyrics = songs.get_lyrics()"
   ]
  },
  {
   "cell_type": "code",
   "execution_count": 7,
   "metadata": {},
   "outputs": [],
   "source": [
    "# get and write lyrics to a text file\n",
    "song_lyrics_filtered = [i.replace('\\n\\n', '') for i in song_lyrics]\n",
    "with open(\"lyrics.txt\", \"a+\", encoding='utf-8') as output:\n",
    "    output.write(str(song_lyrics_filtered))"
   ]
  },
  {
   "cell_type": "code",
   "execution_count": 8,
   "metadata": {},
   "outputs": [],
   "source": [
    "song_lyrics_filtered"
   ]
  },
  {
   "cell_type": "code",
   "execution_count": 9,
   "metadata": {},
   "outputs": [],
   "source": [
    "# get and write artists to a text file\n",
    "song_artists = songs.get_track_artists()\n",
    "with open(\"artists.txt\", \"a+\", encoding='utf-8') as output:\n",
    "    output.write(str(song_artists))"
   ]
  },
  {
   "cell_type": "code",
   "execution_count": 10,
   "metadata": {},
   "outputs": [],
   "source": [
    "song_artists"
   ]
  },
  {
   "cell_type": "code",
   "execution_count": 11,
   "metadata": {},
   "outputs": [],
   "source": [
    "# get and write genres to a text file\n",
    "song_genres = songs.get_track_genres()\n",
    "with open(\"genres.txt\", \"a+\", encoding='utf-8') as output:\n",
    "    output.write('.')\n",
    "    output.write(str(song_genres))"
   ]
  },
  {
   "cell_type": "code",
   "execution_count": 12,
   "metadata": {},
   "outputs": [],
   "source": [
    "song_genres"
   ]
  },
  {
   "cell_type": "code",
   "execution_count": 13,
   "metadata": {},
   "outputs": [],
   "source": [
    "# get and write features to a json file\n",
    "song_features = songs.get_track_features()\n",
    "with open(\"features.json\", \"a+\", encoding='utf-8') as output:\n",
    "    json.dump(song_features, output)"
   ]
  },
  {
   "cell_type": "code",
   "execution_count": 14,
   "metadata": {},
   "outputs": [],
   "source": [
    "song_features"
   ]
  },
  {
   "cell_type": "code",
   "execution_count": 15,
   "metadata": {},
   "outputs": [],
   "source": [
    "# get and write names to a text file\n",
    "song_names = songs.get_track_names()\n",
    "with open(\"names.txt\", \"a+\", encoding='utf-8') as output:\n",
    "    output.write(str(song_names))"
   ]
  },
  {
   "cell_type": "code",
   "execution_count": 16,
   "metadata": {},
   "outputs": [],
   "source": [
    "song_names"
   ]
  }
 ],
 "metadata": {
  "kernelspec": {
   "display_name": "Python 3",
   "language": "python",
   "name": "python3"
  },
  "language_info": {
   "codemirror_mode": {
    "name": "ipython",
    "version": 3
   },
   "file_extension": ".py",
   "mimetype": "text/x-python",
   "name": "python",
   "nbconvert_exporter": "python",
   "pygments_lexer": "ipython3",
   "version": "3.7.3"
  }
 },
 "nbformat": 4,
 "nbformat_minor": 2
}
